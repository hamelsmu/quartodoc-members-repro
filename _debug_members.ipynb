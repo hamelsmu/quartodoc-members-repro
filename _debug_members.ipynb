{
 "cells": [
  {
   "cell_type": "code",
   "execution_count": null,
   "id": "e3696205-36f3-41b1-a396-f55494b908fe",
   "metadata": {},
   "outputs": [
    {
     "name": "stdout",
     "output_type": "stream",
     "text": [
      "render\n",
      "render_annotation\n",
      "render_header\n",
      "style\n",
      "summarize\n"
     ]
    }
   ],
   "source": [
    "import yaml\n",
    "from quartodoc import Builder, blueprint\n",
    "\n",
    "\n",
    "cfg = yaml.safe_load(\"\"\"\n",
    "quartodoc:\n",
    "  dir: api\n",
    "  package: quartodoc\n",
    "  sidebar: \"api/_sidebar.yml\"\n",
    "  sections:\n",
    "    - title: Docstring Renderers\n",
    "      options:\n",
    "        dynamic: true\n",
    "      contents:\n",
    "        - name: MdRenderer\n",
    "\"\"\")\n",
    "bp = blueprint(Builder.from_quarto_config(cfg).layout)\n",
    "dc = bp.sections[0].contents[0].contents[0]\n",
    "for m in dc.members:\n",
    "    print(m.name)"
   ]
  },
  {
   "cell_type": "code",
   "execution_count": null,
   "id": "f7e44e8a-e936-4260-bc93-48eb3e65d6ba",
   "metadata": {},
   "outputs": [],
   "source": []
  }
 ],
 "metadata": {
  "kernelspec": {
   "display_name": "python3",
   "language": "python",
   "name": "python3"
  }
 },
 "nbformat": 4,
 "nbformat_minor": 5
}
